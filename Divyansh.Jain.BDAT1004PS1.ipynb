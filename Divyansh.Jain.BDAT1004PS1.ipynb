{
 "cells": [
  {
   "cell_type": "markdown",
   "id": "a0be7c14",
   "metadata": {},
   "source": [
    "## Problem Set 1\n",
    "This problem set is based on lectures 1,2 and 3. For a complete list of topics please consult page 2 of the course syllabus. \n",
    "Please consult the “Instructions for Problem Set Submissions” document under course information before submitting your assignment."
   ]
  },
  {
   "cell_type": "markdown",
   "id": "fb4b604c",
   "metadata": {},
   "source": [
    "### Question 1\n",
    "What data type is each of the following (evaluate where necessary)?"
   ]
  },
  {
   "cell_type": "markdown",
   "id": "208052e0",
   "metadata": {},
   "source": [
    "5 int\n",
    "5.0 float\n",
    "5>1 TRUE Boolean\n",
    "'5' String\n",
    "5*2 10 Int\n",
    "'5' * 2 55 String\n",
    "'5' + '2' 52 String\n",
    "5/2 2.5 float\n",
    "5%2 1 int\n",
    "{5, 2, 1} list\n",
    "5 == 3 FALSE Boolean\n",
    "Pi (the number) float"
   ]
  },
  {
   "cell_type": "markdown",
   "id": "7a30f9d5",
   "metadata": {},
   "source": [
    "### Question 2\n",
    "Write (and evaluate) python expressions that answer these questions:\n",
    "a. How many letters are there in 'Supercalifragilisticexpialidocious'?\n",
    "b. Does 'Supercalifragilisticexpialidocious' contain 'ice' as a substring?\n",
    "c. Which of the following words is the longest: Supercalifragilisticexpialidocious, Honorificabilitudinitatibus, or Bababadalgharaghtakamminarronnkonn?\n",
    "d. Which composer comes first in the dictionary: 'Berlioz', 'Borodin', 'Brian', 'Bartok', 'Bellini', 'Buxtehude', 'Bernstein'. Which one comes last?"
   ]
  },
  {
   "cell_type": "code",
   "execution_count": 1,
   "id": "53aa6a51",
   "metadata": {},
   "outputs": [
    {
     "name": "stdout",
     "output_type": "stream",
     "text": [
      "34\n",
      "True\n",
      "The original list is ['Supercalifragilisticexpialidocious', 'Honorificabilitudinitatibus', 'Bababadalgharaghtakamminarronnkonn']\n",
      "The string of max length is: Supercalifragilisticexpialidocious\n",
      "The list is: ['Berlioz', 'Borodin', 'Brian', 'Bartok', 'Bellini', 'Buxtehude', 'Bernstein']\n",
      "The first composer is: Bartok\n",
      "the last composer is: Buxtehude\n"
     ]
    }
   ],
   "source": [
    "#part a\n",
    "string1 = 'Supercalifragilisticexpialidocious'\n",
    "print(len(string1))\n",
    "\n",
    "#part b\n",
    "x = 'ice'\n",
    "print(x in string1)\n",
    "\n",
    "#part c\n",
    "strlist = ['Supercalifragilisticexpialidocious', 'Honorificabilitudinitatibus', 'Bababadalgharaghtakamminarronnkonn']\n",
    "print(\"The original list is \" + str(strlist))\n",
    "\n",
    "max_len = -1\n",
    "for ele in strlist:\n",
    "    if len(ele) > max_len:\n",
    "        max_len = len(ele)\n",
    "        res = ele\n",
    "\n",
    "print(\"The string of max length is: \" + res)\n",
    "\n",
    "#part d\n",
    "strlist2 = ['Berlioz', 'Borodin', 'Brian', 'Bartok', 'Bellini', 'Buxtehude', 'Bernstein']\n",
    "print(\"The list is: \" +str(strlist2))\n",
    "strlist2.sort()\n",
    "print(\"The first composer is: \" + strlist2[0])\n",
    "print(\"the last composer is: \" + strlist2[-1] )"
   ]
  },
  {
   "cell_type": "markdown",
   "id": "a837b2d1",
   "metadata": {},
   "source": [
    "### Question 3\n",
    "Implement function triangleArea(a,b,c) that takes as input the lengths of the 3 sides of a triangle and returns the area of the triangle. By Heron's formula, the area of a triangle with side lengths a, b, and c is s(s-a)(s-b)(s-c), where\n",
    "s=(a+b+c)/2.\n",
    ">>> triangleArea(2,2,2)\n",
    "1.7320508075688772"
   ]
  },
  {
   "cell_type": "code",
   "execution_count": 2,
   "id": "a57f4014",
   "metadata": {},
   "outputs": [
    {
     "name": "stdout",
     "output_type": "stream",
     "text": [
      "Area of triangle: \n",
      "1.7320508075688772\n"
     ]
    }
   ],
   "source": [
    "import math\n",
    "def triangleArea(a,b,c):\n",
    "    s = (a+b+c)/2\n",
    "    area = math.sqrt( s*(s-a)*(s-b)*(s-b) )\n",
    "    print(\"Area of triangle: \")\n",
    "    print(area)\n",
    "\n",
    "triangleArea(2,2,2)"
   ]
  },
  {
   "cell_type": "markdown",
   "id": "a19de7a0",
   "metadata": {},
   "source": [
    "### Question 4\n",
    "Write a program in python to separate odd and even integers in separate arrays. Go to the editor\n",
    "Test Data :\n",
    "Input the number of elements to be stored in the array :5\n",
    "Input 5 elements in the array : \n",
    "element - 0 : 25\n",
    "element - 1 : 47\n",
    "element - 2 : 42\n",
    "element - 3 : 56 \n",
    "element - 4 : 32 \n",
    "Expected Output:\n",
    "The Even elements are: 42 56 32\n",
    "The Odd elements are : 25 47"
   ]
  },
  {
   "cell_type": "code",
   "execution_count": 3,
   "id": "933b1c2f",
   "metadata": {},
   "outputs": [
    {
     "name": "stdout",
     "output_type": "stream",
     "text": [
      "The even elements are: \n",
      "[42, 56, 32]\n",
      "The odd elements are: \n",
      "[25, 47]\n"
     ]
    }
   ],
   "source": [
    "lst = [25,47,42,56,32]\n",
    "even =[]\n",
    "odd = []\n",
    "for item in lst:\n",
    "    if item % 2 == 0:\n",
    "        even.append(item)\n",
    "    else:\n",
    "        odd.append(item)\n",
    "        \n",
    "print(\"The even elements are: \")\n",
    "print(even)\n",
    "print(\"The odd elements are: \")\n",
    "print(odd)"
   ]
  },
  {
   "cell_type": "markdown",
   "id": "afa8421b",
   "metadata": {},
   "source": [
    "### Question 5\n",
    "Write a function inside(x,y,x1,y1,x2,y2) that returns True or False depending on whether the point (x,y) lies in the rectangle with lower left corner (x1,y1) and upper right corner (x2,y2).\n",
    "    >>> inside(1,1,0,0,2,3)\n",
    "    True\n",
    "    >>> inside(-1,-1,0,0,2,3)\n",
    "    False\n",
    "b. Use function inside() from part a. to write an expression that tests whether the point (1,1) lies in both of the following rectangles: one with lower left corner (0.3, 0.5) and upper right corner (1.1, 0.7) and the other with lower left corner (0.5, 0.2) and upper right corner (1.1, 2)."
   ]
  },
  {
   "cell_type": "code",
   "execution_count": 4,
   "id": "83ec97a9",
   "metadata": {},
   "outputs": [
    {
     "name": "stdout",
     "output_type": "stream",
     "text": [
      "True. The point lies inside the rectangle!\n",
      "False. The point does not lie inside the rectangle!\n",
      "\n",
      "Checking for rectangle with (0.3,0.5) and (1.1,0.7)\n",
      "True. The point lies inside the rectangle!\n",
      "\n",
      "Checking for rectangle with (0.5,0.2) and (1.1,2)\n",
      "True. The point lies inside the rectangle!\n"
     ]
    }
   ],
   "source": [
    "#part a\n",
    "def inside(x,y,x1,y1,x2,y2):\n",
    "    x_is_inside = -1\n",
    "    y_is_inside = -1\n",
    "    if x>x1 and x<x2 and y>y1 and y<y2:\n",
    "        print(\"True. The point lies inside the rectangle!\")\n",
    "        \n",
    "    else:\n",
    "        print(\"False. The point does not lie inside the rectangle!\")\n",
    "        \n",
    "\n",
    "inside(1,1,0,0,2,3)\n",
    "inside(-1,-1,0,0,2,3)\n",
    "\n",
    "#part b\n",
    "print(\"\\nChecking for rectangle with (0.3,0.5) and (1.1,0.7)\")\n",
    "inside(1,1,0.3,0.5,1.1,1.7)\n",
    "print(\"\\nChecking for rectangle with (0.5,0.2) and (1.1,2)\")\n",
    "inside(1,1,0.5,0.2,1.1,2)"
   ]
  },
  {
   "cell_type": "markdown",
   "id": "b6cb35c9",
   "metadata": {},
   "source": [
    "### Question 6\n",
    "16. You can turn a word into pig-Latin using the following two rules (simplified):\n",
    "• If the word starts with a consonant, move that letter to the end and append 'ay'. For example, 'happy' becomes 'appyhay' and 'pencil' becomes 'encilpay'.\n",
    "• If the word starts with a vowel, simply append 'way' to the end of the word.\n",
    "For example, 'enter' becomes 'enterway' and 'other' becomes 'otherway' . For our purposes, there are 5 vowels: a, e, i, o, u (so we count y as a consonant). \n",
    "\n",
    "Write a function pig() that takes a word (i.e., a string) as input and returns its pig- Latin form. Your function should still work if the input word contains upper case characters. Your output should always be lower case however.\n",
    ">>> pig('happy')\n",
    "'appyhay'\n",
    ">>> pig('Enter')\n",
    "'enterway'"
   ]
  },
  {
   "cell_type": "code",
   "execution_count": 5,
   "id": "f5eb05bb",
   "metadata": {},
   "outputs": [
    {
     "name": "stdout",
     "output_type": "stream",
     "text": [
      "Enter text to convert to pig latin: happy\n"
     ]
    },
    {
     "data": {
      "text/plain": [
       "'appyhay'"
      ]
     },
     "execution_count": 5,
     "metadata": {},
     "output_type": "execute_result"
    }
   ],
   "source": [
    "def pig(string):\n",
    "    pig_latin = ''\n",
    "    vowels = ['a','e','i','o','u']\n",
    "    string = str.lower(string)\n",
    "    \n",
    "    if string[0] in vowels:\n",
    "        pig_latin = string + 'way'\n",
    "    else:\n",
    "        pig_latin = string[1:] + string[0] + 'ay'\n",
    "    return pig_latin\n",
    "\n",
    "string = input(\"Enter text to convert to pig latin: \")\n",
    "pig(string)"
   ]
  },
  {
   "cell_type": "markdown",
   "id": "b6b1f346",
   "metadata": {},
   "source": [
    "### Question 7\n",
    "File bloodtype1.txt records blood-types of patients (A, B, AB, O or OO) at a clinic. Write a function bldcount() that reads the file with name name and reports (i.e., prints) how many patients there are in each bloodtype.\n",
    ">>> bldcount('bloodtype.txt')\n",
    "There are 10 patients of blood type A. There is one patient of blood type B. There are 10 patients of blood type AB. There are 12 patients of blood type O. There are no patients of blood type OO."
   ]
  },
  {
   "cell_type": "code",
   "execution_count": 6,
   "id": "b58802b7",
   "metadata": {},
   "outputs": [
    {
     "name": "stdout",
     "output_type": "stream",
     "text": [
      "There are 15 patients of blood type A.\n",
      "There are 1 patients of blood type B.\n",
      "There are 13 patients of blood type AB.\n",
      "There are 15 patients of blood type O.\n",
      "There are 0 patients of blood type OO.\n"
     ]
    }
   ],
   "source": [
    "infile = open('bloodtype1.txt','r')\n",
    "content = infile.read()\n",
    "infile.close()\n",
    "wordlist = content.split()\n",
    "# print(len(wordlist)) \n",
    "countA = 0\n",
    "countB = 0\n",
    "countAB = 0\n",
    "countO = 0\n",
    "countOO = 0\n",
    "for w in wordlist:\n",
    "    if w == 'A': \n",
    "        countA += 1\n",
    "    if w == 'B': \n",
    "        countB += 1\n",
    "    if w == 'AB':\n",
    "        countAB += 1\n",
    "    if w == 'O':\n",
    "        countO += 1\n",
    "    if w == 'OO':\n",
    "        countOO += 1\n",
    "        \n",
    "print('There are {} patients of blood type A.'.format(countA))\n",
    "print(\"There are {} patients of blood type B.\".format(countB))\n",
    "print(\"There are {} patients of blood type AB.\".format(countAB))\n",
    "print(\"There are {} patients of blood type O.\".format(countO))\n",
    "print(\"There are {} patients of blood type OO.\".format(countOO))"
   ]
  },
  {
   "cell_type": "markdown",
   "id": "82310639",
   "metadata": {},
   "source": [
    "### Question 8\n",
    "Write a function curconv() that takes as input:\n",
    "1. a currency represented using a string (e.g., 'JPY' for the Japanese Yen or 'EUR' for the Euro)\n",
    "2. an amount\n",
    "and then converts and returns the amount in US dollars.\n",
    ">>> curconv('EUR', 100)\n",
    "122.96544\n",
    ">>> curconv('JPY', 100)\n",
    "1.241401"
   ]
  },
  {
   "cell_type": "code",
   "execution_count": 7,
   "id": "dd898677",
   "metadata": {},
   "outputs": [
    {
     "name": "stdout",
     "output_type": "stream",
     "text": [
      "\n",
      "The converted amount is : 122.96544\n",
      "\n",
      "The converted amount is : 1.241401\n"
     ]
    }
   ],
   "source": [
    "def curconv(cur, amt):\n",
    "    d = {\n",
    "        'AUD':1.0345157, \n",
    "        'CHF':1.0237414, \n",
    "        'CNY':0.1550176, \n",
    "        'DKK':0.1651442, \n",
    "        'EUR':1.2296544, \n",
    "        'GBP':1.5550989,\n",
    "        'HKD':0.1270207, \n",
    "        'INR':0.0177643, \n",
    "        'JPY':0.01241401, \n",
    "        'MXN':0.0751848, \n",
    "        'MYR':0.3145411, \n",
    "        'NOK':0.1677063,\n",
    "        'NZD':0.8003591, \n",
    "        'PHP':0.0233234, \n",
    "        'SEK':0.148269, \n",
    "        'SGD':0.788871, \n",
    "        'THB':0.0313789\n",
    "        }\n",
    "    # print(\"The dictionary is as follows: \\n\")\n",
    "    # print(d)\n",
    "    for x in d.keys():\n",
    "        if cur == x:\n",
    "            converted = amt * d[x]\n",
    "    print(\"\\nThe converted amount is : {}\".format(converted))\n",
    "        \n",
    "curconv('EUR',100)\n",
    "curconv('JPY',100)"
   ]
  },
  {
   "cell_type": "markdown",
   "id": "0ed3b97d",
   "metadata": {},
   "source": [
    "### Question 9\n",
    "Each of the following will cause an exception (an error). Identify what type of exception each will cause.\n",
    "a. Trying to add incompatible variables, as in adding 6 + ‘a’\n",
    "b. Referring to the 12th item of a list that has only 10 items\n",
    "c. Using a value that is out of range for a function’s input, such as calling math.sqrt(-1.0)\n",
    "d. Using an undeclared variable, such as print(x) when x has not been defined\n",
    "e. Trying to open a file that does not exist, such as mistyping the file name or looking in the wrong directory."
   ]
  },
  {
   "cell_type": "markdown",
   "id": "a6509615",
   "metadata": {},
   "source": [
    "a. Type error\n",
    "b. Index error\n",
    "c. Value error\n",
    "d. Name error\n",
    "e. FileNotFound error"
   ]
  },
  {
   "cell_type": "markdown",
   "id": "84e4f57b",
   "metadata": {},
   "source": [
    "### Question 10\n",
    "Encryption is the process of hiding the meaning of a text by substituting letters in the message with other letters, according to some system. If the process is successful, no one but the intended recipient can understand the encrypted message. Cryptanalysis refers to attempts to undo the encryption, even if some details of the encryption are unknown (for example, if an encrypted message has been intercepted). The first step of cryptanalysis is often to build up a table of letter frequencies in the encrypted text. Assume that the string letters is already defined as 'abcdefghijklmnopqrstuvwxyz'. Write a function called frequencies() that takes a string as its only parameter, and returns a list of integers, showing the number of times each character appears in the text. Your function may ignore any characters that are not in letters."
   ]
  },
  {
   "cell_type": "code",
   "execution_count": 119,
   "id": "18f44eaa",
   "metadata": {},
   "outputs": [
    {
     "name": "stdout",
     "output_type": "stream",
     "text": [
      "dict_values([1, 1, 1, 3, 5, 1, 1, 2, 1, 0, 1, 0, 1, 2, 4, 0, 1, 2, 0, 3, 1, 0, 1, 1, 0, 0])\n",
      "dict_values([1, 0, 0, 0, 1, 0, 0, 0, 0, 0, 0, 1, 0, 0, 0, 2, 0, 0, 0, 0, 0, 0, 0, 0, 0, 0])\n"
     ]
    }
   ],
   "source": [
    "def frequencies(string):\n",
    "    string = str.lower(string)\n",
    "    letters = ('a','b','c','d','e','f','g','h','i','j','k','l','m','n','o','p','q','r','s','t','u','v','w','x','y','z')\n",
    "    total_char = []\n",
    "    alphabet_count = {}\n",
    "    # Checking for alphabets in string and appending to empty list\n",
    "    for i in string:\n",
    "        if i.isalpha():\n",
    "            total_char.append(i)\n",
    "    \n",
    "    for ch in letters:\n",
    "        if ch in total_char:\n",
    "            alphabet_count[ch] = total_char.count(ch)\n",
    "        else:\n",
    "            alphabet_count[ch] = 0\n",
    "    print(alphabet_count.values())\n",
    "       \n",
    "frequencies('The quick red fox got bored and went home.')\n",
    "frequencies('apple')"
   ]
  }
 ],
 "metadata": {
  "kernelspec": {
   "display_name": "Python 3 (ipykernel)",
   "language": "python",
   "name": "python3"
  },
  "language_info": {
   "codemirror_mode": {
    "name": "ipython",
    "version": 3
   },
   "file_extension": ".py",
   "mimetype": "text/x-python",
   "name": "python",
   "nbconvert_exporter": "python",
   "pygments_lexer": "ipython3",
   "version": "3.9.12"
  }
 },
 "nbformat": 4,
 "nbformat_minor": 5
}
